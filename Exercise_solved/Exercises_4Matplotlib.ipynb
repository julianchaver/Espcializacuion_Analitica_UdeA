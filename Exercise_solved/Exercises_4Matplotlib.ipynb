{
 "cells": [
  {
   "cell_type": "markdown",
   "id": "0b915bdb-828a-4fcc-a48d-579309bf03f1",
   "metadata": {},
   "source": [
    "\n",
    "# Exercise\n",
    "\n",
    "We will work with some files from the publicly available dataset 'Instacart Market Basket Analysis': https://www.kaggle.com/c/instacart-market-basket-analysis/data\n",
    "\n",
    "You must import the datasets order_products_train.csv, and products.csv; they are located in the folder data/instacart. Then, perform the following tasks:\n",
    "\n",
    "1. Verify if the datasets have missing values in any of its columns.\n",
    "2. Plot a bar chart with the 15 most common purchased products.\n",
    "3. Plot a bar chart with the 15 most common purchased products that have been reordered.\n",
    "\n",
    "For tasks 2 and 3 you must show the name of the products as labels instead of the id."
   ]
  },
  {
   "cell_type": "code",
   "execution_count": 1,
   "id": "e58a3d12-9440-4805-94a8-cf3cdf58278c",
   "metadata": {},
   "outputs": [],
   "source": [
    "import pandas as pd\n",
    "import numpy as np\n",
    "import seaborn as sn\n",
    "import matplotlib.pyplot as plt"
   ]
  },
  {
   "cell_type": "code",
   "execution_count": 2,
   "id": "9a31b5c1-a5e8-4b89-853d-28ca172c5af0",
   "metadata": {},
   "outputs": [
    {
     "name": "stdout",
     "output_type": "stream",
     "text": [
      "   order_id  product_id  add_to_cart_order  reordered\n",
      "0         1       49302                  1          1\n",
      "1         1       11109                  2          1\n",
      "2         1       10246                  3          0\n",
      "3         1       49683                  4          0\n",
      "4         1       43633                  5          1\n",
      "   product_id                                       product_name  aisle_id  \\\n",
      "0           1                         Chocolate Sandwich Cookies        61   \n",
      "1           2                                   All-Seasons Salt       104   \n",
      "2           3               Robust Golden Unsweetened Oolong Tea        94   \n",
      "3           4  Smart Ones Classic Favorites Mini Rigatoni Wit...        38   \n",
      "4           5                          Green Chile Anytime Sauce         5   \n",
      "\n",
      "   department_id  \n",
      "0             19  \n",
      "1             13  \n",
      "2              7  \n",
      "3              1  \n",
      "4             13  \n"
     ]
    }
   ],
   "source": [
    "order= pd.read_csv('data/instacart/order_products_train.csv')\n",
    "print(order.head())\n",
    "products= pd.read_csv('data/instacart/products.csv')\n",
    "print(products.head())"
   ]
  },
  {
   "cell_type": "markdown",
   "id": "bc62ffcc-9752-4881-b970-fd9bed210362",
   "metadata": {},
   "source": [
    "# 1.Missing Values"
   ]
  },
  {
   "cell_type": "code",
   "execution_count": 3,
   "id": "87aac566-ad77-4035-a282-8afa830bf057",
   "metadata": {},
   "outputs": [
    {
     "name": "stdout",
     "output_type": "stream",
     "text": [
      "El archivo de ordenes contiene los siguientes valores nulos: order_id             0\n",
      "product_id           0\n",
      "add_to_cart_order    0\n",
      "reordered            0\n",
      "dtype: int64\n",
      "El archivo de productos contiene los siguientes valores nulos: product_id       0\n",
      "product_name     0\n",
      "aisle_id         0\n",
      "department_id    0\n",
      "dtype: int64\n"
     ]
    }
   ],
   "source": [
    "#Valores faltantes en order\n",
    "print('El archivo de ordenes contiene los siguientes valores nulos:',order.isnull().sum())\n",
    "print('El archivo de productos contiene los siguientes valores nulos:',products.isnull().sum())"
   ]
  },
  {
   "cell_type": "markdown",
   "id": "8bf978ce-781b-4a0b-80fa-92588ace4a62",
   "metadata": {},
   "source": [
    "# 2.Plot a bar chart with the 15 most common purchased products"
   ]
  },
  {
   "cell_type": "code",
   "execution_count": 4,
   "id": "9c4c4c67-259e-451d-afa3-6c113d718073",
   "metadata": {},
   "outputs": [
    {
     "data": {
      "text/html": [
       "<div>\n",
       "<style scoped>\n",
       "    .dataframe tbody tr th:only-of-type {\n",
       "        vertical-align: middle;\n",
       "    }\n",
       "\n",
       "    .dataframe tbody tr th {\n",
       "        vertical-align: top;\n",
       "    }\n",
       "\n",
       "    .dataframe thead th {\n",
       "        text-align: right;\n",
       "    }\n",
       "</style>\n",
       "<table border=\"1\" class=\"dataframe\">\n",
       "  <thead>\n",
       "    <tr style=\"text-align: right;\">\n",
       "      <th></th>\n",
       "      <th>order_id</th>\n",
       "      <th>product_id</th>\n",
       "      <th>add_to_cart_order</th>\n",
       "      <th>reordered</th>\n",
       "      <th>product_name</th>\n",
       "      <th>aisle_id</th>\n",
       "      <th>department_id</th>\n",
       "    </tr>\n",
       "  </thead>\n",
       "  <tbody>\n",
       "    <tr>\n",
       "      <th>0</th>\n",
       "      <td>1</td>\n",
       "      <td>49302</td>\n",
       "      <td>1</td>\n",
       "      <td>1</td>\n",
       "      <td>Bulgarian Yogurt</td>\n",
       "      <td>120</td>\n",
       "      <td>16</td>\n",
       "    </tr>\n",
       "    <tr>\n",
       "      <th>1</th>\n",
       "      <td>1</td>\n",
       "      <td>11109</td>\n",
       "      <td>2</td>\n",
       "      <td>1</td>\n",
       "      <td>Organic 4% Milk Fat Whole Milk Cottage Cheese</td>\n",
       "      <td>108</td>\n",
       "      <td>16</td>\n",
       "    </tr>\n",
       "    <tr>\n",
       "      <th>2</th>\n",
       "      <td>1</td>\n",
       "      <td>10246</td>\n",
       "      <td>3</td>\n",
       "      <td>0</td>\n",
       "      <td>Organic Celery Hearts</td>\n",
       "      <td>83</td>\n",
       "      <td>4</td>\n",
       "    </tr>\n",
       "    <tr>\n",
       "      <th>3</th>\n",
       "      <td>1</td>\n",
       "      <td>49683</td>\n",
       "      <td>4</td>\n",
       "      <td>0</td>\n",
       "      <td>Cucumber Kirby</td>\n",
       "      <td>83</td>\n",
       "      <td>4</td>\n",
       "    </tr>\n",
       "    <tr>\n",
       "      <th>4</th>\n",
       "      <td>1</td>\n",
       "      <td>43633</td>\n",
       "      <td>5</td>\n",
       "      <td>1</td>\n",
       "      <td>Lightly Smoked Sardines in Olive Oil</td>\n",
       "      <td>95</td>\n",
       "      <td>15</td>\n",
       "    </tr>\n",
       "  </tbody>\n",
       "</table>\n",
       "</div>"
      ],
      "text/plain": [
       "   order_id  product_id  add_to_cart_order  reordered  \\\n",
       "0         1       49302                  1          1   \n",
       "1         1       11109                  2          1   \n",
       "2         1       10246                  3          0   \n",
       "3         1       49683                  4          0   \n",
       "4         1       43633                  5          1   \n",
       "\n",
       "                                    product_name  aisle_id  department_id  \n",
       "0                               Bulgarian Yogurt       120             16  \n",
       "1  Organic 4% Milk Fat Whole Milk Cottage Cheese       108             16  \n",
       "2                          Organic Celery Hearts        83              4  \n",
       "3                                 Cucumber Kirby        83              4  \n",
       "4           Lightly Smoked Sardines in Olive Oil        95             15  "
      ]
     },
     "execution_count": 4,
     "metadata": {},
     "output_type": "execute_result"
    }
   ],
   "source": [
    "data= pd.merge(order,products,how='left', on='product_id')\n",
    "data.head()"
   ]
  },
  {
   "cell_type": "code",
   "execution_count": 5,
   "id": "8b49bf36-610f-4932-81dc-c1c708ff6fdb",
   "metadata": {},
   "outputs": [],
   "source": [
    "totales= data.groupby(by=['product_id','product_name']).count()"
   ]
  },
  {
   "cell_type": "code",
   "execution_count": 6,
   "id": "4b59de26-ca7e-4138-85e9-78bef1677807",
   "metadata": {},
   "outputs": [
    {
     "data": {
      "text/html": [
       "<div>\n",
       "<style scoped>\n",
       "    .dataframe tbody tr th:only-of-type {\n",
       "        vertical-align: middle;\n",
       "    }\n",
       "\n",
       "    .dataframe tbody tr th {\n",
       "        vertical-align: top;\n",
       "    }\n",
       "\n",
       "    .dataframe thead th {\n",
       "        text-align: right;\n",
       "    }\n",
       "</style>\n",
       "<table border=\"1\" class=\"dataframe\">\n",
       "  <thead>\n",
       "    <tr style=\"text-align: right;\">\n",
       "      <th></th>\n",
       "      <th>product_id</th>\n",
       "      <th>product_name</th>\n",
       "      <th>order_id</th>\n",
       "      <th>add_to_cart_order</th>\n",
       "      <th>reordered</th>\n",
       "      <th>aisle_id</th>\n",
       "      <th>department_id</th>\n",
       "    </tr>\n",
       "  </thead>\n",
       "  <tbody>\n",
       "    <tr>\n",
       "      <th>0</th>\n",
       "      <td>24852</td>\n",
       "      <td>Banana</td>\n",
       "      <td>18726</td>\n",
       "      <td>18726</td>\n",
       "      <td>18726</td>\n",
       "      <td>18726</td>\n",
       "      <td>18726</td>\n",
       "    </tr>\n",
       "    <tr>\n",
       "      <th>1</th>\n",
       "      <td>13176</td>\n",
       "      <td>Bag of Organic Bananas</td>\n",
       "      <td>15480</td>\n",
       "      <td>15480</td>\n",
       "      <td>15480</td>\n",
       "      <td>15480</td>\n",
       "      <td>15480</td>\n",
       "    </tr>\n",
       "    <tr>\n",
       "      <th>2</th>\n",
       "      <td>21137</td>\n",
       "      <td>Organic Strawberries</td>\n",
       "      <td>10894</td>\n",
       "      <td>10894</td>\n",
       "      <td>10894</td>\n",
       "      <td>10894</td>\n",
       "      <td>10894</td>\n",
       "    </tr>\n",
       "    <tr>\n",
       "      <th>3</th>\n",
       "      <td>21903</td>\n",
       "      <td>Organic Baby Spinach</td>\n",
       "      <td>9784</td>\n",
       "      <td>9784</td>\n",
       "      <td>9784</td>\n",
       "      <td>9784</td>\n",
       "      <td>9784</td>\n",
       "    </tr>\n",
       "    <tr>\n",
       "      <th>4</th>\n",
       "      <td>47626</td>\n",
       "      <td>Large Lemon</td>\n",
       "      <td>8135</td>\n",
       "      <td>8135</td>\n",
       "      <td>8135</td>\n",
       "      <td>8135</td>\n",
       "      <td>8135</td>\n",
       "    </tr>\n",
       "  </tbody>\n",
       "</table>\n",
       "</div>"
      ],
      "text/plain": [
       "   product_id            product_name  order_id  add_to_cart_order  reordered  \\\n",
       "0       24852                  Banana     18726              18726      18726   \n",
       "1       13176  Bag of Organic Bananas     15480              15480      15480   \n",
       "2       21137    Organic Strawberries     10894              10894      10894   \n",
       "3       21903    Organic Baby Spinach      9784               9784       9784   \n",
       "4       47626             Large Lemon      8135               8135       8135   \n",
       "\n",
       "   aisle_id  department_id  \n",
       "0     18726          18726  \n",
       "1     15480          15480  \n",
       "2     10894          10894  \n",
       "3      9784           9784  \n",
       "4      8135           8135  "
      ]
     },
     "execution_count": 6,
     "metadata": {},
     "output_type": "execute_result"
    }
   ],
   "source": [
    "totales.sort_values(by=['add_to_cart_order'],ascending=False,inplace=True)\n",
    "totales.reset_index(inplace=True)\n",
    "totales.head()"
   ]
  },
  {
   "cell_type": "code",
   "execution_count": 7,
   "id": "8c0bfa43-e579-43f9-97ed-bed582dc9c26",
   "metadata": {},
   "outputs": [
    {
     "data": {
      "image/png": "[encoded data removed]",
      "text/plain": [
       "<Figure size 432x288 with 1 Axes>"
      ]
     },
     "metadata": {
      "needs_background": "light"
     },
     "output_type": "display_data"
    }
   ],
   "source": [
    "sn.barplot(data=totales.head(15),y='product_name',x='add_to_cart_order')\n",
    "plt.title(\"Most Common Purchased Products\")\n",
    "plt.xlabel(\"Times Purchased\")\n",
    "plt.ylabel(\"Product\")\n",
    "plt.show()"
   ]
  },
  {
   "cell_type": "markdown",
   "id": "afd215fa-4bf2-45f8-9cfc-b5d8b37894ba",
   "metadata": {},
   "source": [
    "# 3.Plot a bar chart with the 15 most common purchased products that have been reordered."
   ]
  },
  {
   "cell_type": "code",
   "execution_count": 8,
   "id": "1fe69804-b652-492c-b5d3-692caf72ad02",
   "metadata": {},
   "outputs": [],
   "source": [
    "totales= data[data.reordered>0].groupby(by=['product_id','product_name']).count()\n",
    "totales.sort_values(by=['add_to_cart_order'],ascending=False,inplace=True)\n",
    "totales.reset_index(inplace=True)\n",
    "#totales.head(15)"
   ]
  },
  {
   "cell_type": "code",
   "execution_count": 9,
   "id": "9eddfd06-500b-4559-91aa-2bee38c02c71",
   "metadata": {},
   "outputs": [
    {
     "data": {
      "image/png": "[encoded data removed]",
      "text/plain": [
       "<Figure size 432x288 with 1 Axes>"
      ]
     },
     "metadata": {
      "needs_background": "light"
     },
     "output_type": "display_data"
    }
   ],
   "source": [
    "sn.barplot(data=totales.head(15),y='product_name',x='add_to_cart_order')\n",
    "plt.title('Most Common Reordered Purchased Products')\n",
    "plt.xlabel('Times Purchased')\n",
    "plt.ylabel('Product')\n",
    "plt.show()"
   ]
  },
  {
   "cell_type": "code",
   "execution_count": null,
   "id": "b0664f6b-43a5-404f-9ebb-cedf9e54d608",
   "metadata": {},
   "outputs": [],
   "source": []
  }
 ],
 "metadata": {
  "kernelspec": {
   "display_name": "Python 3",
   "language": "python",
   "name": "python3"
  },
  "language_info": {
   "codemirror_mode": {
    "name": "ipython",
    "version": 3
   },
   "file_extension": ".py",
   "mimetype": "text/x-python",
   "name": "python",
   "nbconvert_exporter": "python",
   "pygments_lexer": "ipython3",
   "version": "3.8.8"
  }
 },
 "nbformat": 4,
 "nbformat_minor": 5
}
