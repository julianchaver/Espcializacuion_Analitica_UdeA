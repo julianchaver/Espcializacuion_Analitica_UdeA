{
 "cells": [
  {
   "cell_type": "markdown",
   "metadata": {
    "tags": []
   },
   "source": [
    "# Task 1: Palindrome\n",
    "\n",
    "Determine whether an integer number $n$ is a palindrome, this is, if it is the same number when read left to right and when read right to left. Return `True` if so, otherwise return `False`.\n",
    "\n",
    "**Execution example**\n",
    "\n",
    "```python\n",
    ">>> palindrome(n=3456543)\n",
    "True\n",
    "\n",
    ">>> palindrome(n=543)\n",
    "False\n",
    "```\n",
    "\n",
    "**hint**: transform it into string, reverse it and check equality\n",
    "\n",
    "**challenge**: use one single line of code"
   ]
  },
  {
   "cell_type": "code",
   "execution_count": 14,
   "metadata": {},
   "outputs": [],
   "source": [
    "def palindrome(n): # assume n is an integer \n",
    "    r=str(n)[::-1]== str(n)\n",
    "    return r # r must be boolean True/False"
   ]
  },
  {
   "cell_type": "markdown",
   "metadata": {},
   "source": [
    "check your code manually"
   ]
  },
  {
   "cell_type": "code",
   "execution_count": 15,
   "metadata": {},
   "outputs": [
    {
     "name": "stdout",
     "output_type": "stream",
     "text": [
      "True\n",
      "False\n"
     ]
    }
   ],
   "source": [
    "print (palindrome(12321))\n",
    "print (palindrome(12322))"
   ]
  },
  {
   "cell_type": "markdown",
   "metadata": {},
   "source": [
    "# Task 2: Fibonacci\n",
    "\n",
    "Complete the function below so that given an integer $n$ it computes the $n^{th}$ term of the Fibonacci series:\n",
    "\n",
    "$$ f_n = f_{n-1}+f_{n-2}$$ \n",
    "\n",
    "Where $$f_0=0 \\:\\:\\text{ y }\\:\\:f_1=1 $$ so that: $$f_2=1+0=1$$ $$f_3=1+1=2$$ $$f_4=2+1=3$$ and so on\n",
    "\n",
    "### Execution example \n",
    "```python\n",
    "\n",
    ">>> fibonacci(50)\n",
    "12586269025\n",
    "\n",
    ">>> fibonacci(63)\n",
    "6557470319842\n",
    "```\n",
    "\n",
    "The function must be able to return results for $$n>=0$$"
   ]
  },
  {
   "cell_type": "code",
   "execution_count": 30,
   "metadata": {},
   "outputs": [],
   "source": [
    "def fibonacci(n):\n",
    "    r=[0,1]\n",
    "    for i in range(2,n+1):\n",
    "        r=[r[-1],(r[-1]+r[-2])]\n",
    "    return r[-1]"
   ]
  },
  {
   "cell_type": "markdown",
   "metadata": {},
   "source": [
    "**check manually your code**"
   ]
  },
  {
   "cell_type": "code",
   "execution_count": 32,
   "metadata": {},
   "outputs": [
    {
     "data": {
      "text/plain": [
       "(12586269025, 6557470319842)"
      ]
     },
     "execution_count": 32,
     "metadata": {},
     "output_type": "execute_result"
    }
   ],
   "source": [
    "fibonacci(50), fibonacci(63)"
   ]
  },
  {
   "cell_type": "markdown",
   "metadata": {},
   "source": [
    "# Task 3: Money Change\n",
    "\n",
    "En este ejercicio, su programa recibirá un monto entre 1 y 99 centavos de Dolar, Escriba un metodo que retorne en una lista, cuantas monedas son necesarias para devolverle a alguien dicho valor, si únicamente se cuenta con monedas de 1, 10 y 25 centavos. La lista debe entregarse de la siguiente manera:\n",
    "\n",
    "In this task your function will receive an amount between 1 and 99 cents and will have to return a list with three numbers [$n_1$, $n_{10}$, $n_{25}$], specifying how many coins of 1, 10 and 25 cents are required to obtain the given amonut. We only have coints of 1, 10 and 25 cents. There are no other kinds of coins.\n",
    "\n",
    "If the amount given is less than 1 or more than 99 you must return `None`.\n",
    "\n",
    "**Execution example**\n",
    "\n",
    "```python\n",
    ">>> cambio(n=55)\n",
    "[5,0,2]\n",
    "\n",
    ">>> cambio(n=200)\n",
    "None\n",
    "\n",
    ">>> cambio(n=47)\n",
    "[2,2,1]\n",
    "```\n",
    "\n",
    "**hint**: use `\\\\` for integer division\n"
   ]
  },
  {
   "cell_type": "code",
   "execution_count": 37,
   "metadata": {},
   "outputs": [],
   "source": [
    "def change_money(n):\n",
    "    r = [0,0,0] #recall: r[0]== n_1, r[1]== n_10 y r[2]== n_25\n",
    "    if n<1|n>99:\n",
    "        r= None\n",
    "    else:\n",
    "        r[2]=n//25\n",
    "        r[1]=(n-r[2]*25)//10\n",
    "        r[0]=(n-r[2]*25-r[1]*10)\n",
    "    return r"
   ]
  },
  {
   "cell_type": "markdown",
   "metadata": {},
   "source": [
    "Test your function:"
   ]
  },
  {
   "cell_type": "code",
   "execution_count": 38,
   "metadata": {},
   "outputs": [
    {
     "name": "stdout",
     "output_type": "stream",
     "text": [
      "[5, 0, 2]\n"
     ]
    }
   ],
   "source": [
    "print(change_money(55))"
   ]
  },
  {
   "cell_type": "code",
   "execution_count": 39,
   "metadata": {},
   "outputs": [
    {
     "name": "stdout",
     "output_type": "stream",
     "text": [
      "[4, 2, 3]\n"
     ]
    }
   ],
   "source": [
    "print(change_money(99))"
   ]
  },
  {
   "cell_type": "code",
   "execution_count": 40,
   "metadata": {},
   "outputs": [
    {
     "name": "stdout",
     "output_type": "stream",
     "text": [
      "None\n"
     ]
    }
   ],
   "source": [
    "print(change_money(200))"
   ]
  },
  {
   "cell_type": "code",
   "execution_count": 41,
   "metadata": {},
   "outputs": [
    {
     "name": "stdout",
     "output_type": "stream",
     "text": [
      "[2, 2, 1]\n"
     ]
    }
   ],
   "source": [
    "print(change_money(47))"
   ]
  },
  {
   "cell_type": "code",
   "execution_count": null,
   "metadata": {},
   "outputs": [],
   "source": []
  }
 ],
 "metadata": {
  "kernelspec": {
   "display_name": "Python 3",
   "language": "python",
   "name": "python3"
  },
  "language_info": {
   "codemirror_mode": {
    "name": "ipython",
    "version": 3
   },
   "file_extension": ".py",
   "mimetype": "text/x-python",
   "name": "python",
   "nbconvert_exporter": "python",
   "pygments_lexer": "ipython3",
   "version": "3.8.8"
  }
 },
 "nbformat": 4,
 "nbformat_minor": 4
}
